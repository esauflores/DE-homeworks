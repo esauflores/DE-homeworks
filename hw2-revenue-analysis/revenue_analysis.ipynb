{
 "cells": [
  {
   "cell_type": "code",
   "execution_count": 1539,
   "id": "da71bc90",
   "metadata": {},
   "outputs": [],
   "source": [
    "import time\n",
    "\n",
    "pipeline_start = time.time()"
   ]
  },
  {
   "cell_type": "markdown",
   "id": "646273e8",
   "metadata": {},
   "source": [
    "#1 describe schemas\n"
   ]
  },
  {
   "cell_type": "code",
   "execution_count": 1540,
   "id": "cb7fca6f",
   "metadata": {},
   "outputs": [],
   "source": [
    "from pyspark.sql.types import (\n",
    "    StructType,\n",
    "    StructField,\n",
    "    StringType,\n",
    "    DoubleType,\n",
    "    IntegerType,\n",
    "    BooleanType,\n",
    ")"
   ]
  },
  {
   "cell_type": "code",
   "execution_count": 1541,
   "id": "8edc1ee8",
   "metadata": {},
   "outputs": [],
   "source": [
    "users_schema = StructType(\n",
    "    [\n",
    "        StructField(\"id\", IntegerType(), True),\n",
    "        StructField(\"signup_date\", StringType(), True),\n",
    "        StructField(\"plan\", StringType(), True),\n",
    "        StructField(\"country\", StringType(), True),\n",
    "        StructField(\"marketing_opt_in\", BooleanType(), True),\n",
    "    ]\n",
    ")\n"
   ]
  },
  {
   "cell_type": "code",
   "execution_count": 1542,
   "id": "e228647d",
   "metadata": {},
   "outputs": [],
   "source": [
    "items_schema = StructType(\n",
    "    [\n",
    "        StructField(\"item_id\", IntegerType(), True),\n",
    "        StructField(\"category\", StringType(), True),\n",
    "        StructField(\"price\", DoubleType(), True),\n",
    "    ]\n",
    ")"
   ]
  },
  {
   "cell_type": "code",
   "execution_count": 1543,
   "id": "43dcbd5a",
   "metadata": {},
   "outputs": [],
   "source": [
    "events_schema = StructType(\n",
    "    [\n",
    "        StructField(\"ts\", StringType()),\n",
    "        StructField(\"event\", StringType()),\n",
    "        StructField(\"user_id\", IntegerType()),\n",
    "        StructField(\"item_id\", IntegerType()),\n",
    "        StructField(\n",
    "            \"context\",\n",
    "            StructType(\n",
    "                [\n",
    "                    StructField(\"country\", StringType()),\n",
    "                    StructField(\"device\", StringType()),\n",
    "                    StructField(\"locale\", StringType()),\n",
    "                    StructField(\"session_id\", StringType()),\n",
    "                ]\n",
    "            ),\n",
    "        ),\n",
    "        StructField(\n",
    "            \"props\",\n",
    "            StructType(\n",
    "                [\n",
    "                    StructField(\"price\", DoubleType()),\n",
    "                    StructField(\"payment_method\", StringType()),\n",
    "                    StructField(\"dwell_ms\", IntegerType()),\n",
    "                ]\n",
    "            ),\n",
    "        ),\n",
    "        StructField(\"exp\", StructType([StructField(\"ab_group\", StringType())])),\n",
    "    ]\n",
    ")"
   ]
  },
  {
   "cell_type": "markdown",
   "id": "b0522efa",
   "metadata": {},
   "source": [
    "#2 read data\n"
   ]
  },
  {
   "cell_type": "code",
   "execution_count": 1544,
   "id": "1e8c8a76",
   "metadata": {},
   "outputs": [],
   "source": [
    "from pyspark.sql import SparkSession\n",
    "\n",
    "spark = SparkSession.builder.appName(\"Revenue Analysis\").getOrCreate()\n",
    "\n",
    "spark.sparkContext.setJobGroup(\"revenue-analysis\", \"Revenue Analysis Pipeline - Data Processing and KPI Calculation\")\n",
    "\n",
    "spark.sparkContext.setJobDescription(\"Stage 1: Loading raw data (users, items, events)\")\n",
    "\n"
   ]
  },
  {
   "cell_type": "code",
   "execution_count": 1545,
   "id": "85abc090",
   "metadata": {},
   "outputs": [
    {
     "name": "stdout",
     "output_type": "stream",
     "text": [
      "+---+-----------+----+-------+----------------+\n",
      "|id |signup_date|plan|country|marketing_opt_in|\n",
      "+---+-----------+----+-------+----------------+\n",
      "|1  |2024-10-01 |free|TH     |false           |\n",
      "|2  |2025-05-02 |free|DE     |true            |\n",
      "|3  |2024-08-10 |pro |DE     |true            |\n",
      "|4  |2025-01-20 |free|DE     |false           |\n",
      "|5  |2025-04-27 |free|US     |true            |\n",
      "+---+-----------+----+-------+----------------+\n",
      "only showing top 5 rows\n",
      "Total users: 20000\n",
      "Users partitions: 1\n"
     ]
    }
   ],
   "source": [
    "users_df = spark.read.schema(users_schema).json(\"./data/users.jsonl\")\n",
    "users_df.show(5, truncate=False)\n",
    "print(f\"Total users: {users_df.count()}\")\n",
    "print(f\"Users partitions: {users_df.rdd.getNumPartitions()}\")"
   ]
  },
  {
   "cell_type": "code",
   "execution_count": 1546,
   "id": "0ce7be85",
   "metadata": {},
   "outputs": [
    {
     "name": "stdout",
     "output_type": "stream",
     "text": [
      "+-------+-----------+-----+\n",
      "|item_id|category   |price|\n",
      "+-------+-----------+-----+\n",
      "|1      |sports     |NULL |\n",
      "|2      |sports     |NULL |\n",
      "|3      |sports     |NULL |\n",
      "|4      |books      |NULL |\n",
      "|5      |electronics|NULL |\n",
      "+-------+-----------+-----+\n",
      "only showing top 5 rows\n"
     ]
    },
    {
     "name": "stdout",
     "output_type": "stream",
     "text": [
      "Total items: 5000\n",
      "Items partitions: 1\n"
     ]
    }
   ],
   "source": [
    "items_df = spark.read.schema(items_schema).json(\"./data/items.jsonl\")\n",
    "items_df.show(5, truncate=False)\n",
    "\n",
    "print(f\"Total items: {items_df.count()}\")\n",
    "print(f\"Items partitions: {items_df.rdd.getNumPartitions()}\")\n"
   ]
  },
  {
   "cell_type": "code",
   "execution_count": 1547,
   "id": "1d8e1aa4",
   "metadata": {},
   "outputs": [
    {
     "name": "stdout",
     "output_type": "stream",
     "text": [
      "+--------------------------------+--------+-------+-------+----------------------------------------------------------+--------------------+---+\n",
      "|ts                              |event   |user_id|item_id|context                                                   |props               |exp|\n",
      "+--------------------------------+--------+-------+-------+----------------------------------------------------------+--------------------+---+\n",
      "|2025-09-27T15:26:07.741915+00:00|view    |2484   |3640   |{DE, web, pt_BR, 8abdca9e-195d-41b0-ab3f-68cbeae1ad8a}    |{NULL, NULL, 2953}  |{A}|\n",
      "|2025-09-13T18:06:24.741915+00:00|purchase|13203  |1841   |{US, android, de_DE, 662e452a-ae57-49a1-a222-60f66ba7b925}|{159.61, card, NULL}|{A}|\n",
      "|2025-09-09T02:59:53.741915+00:00|view    |3166   |4991   |{DE, ios, de_DE, 031db753-abab-40fc-b105-86892dd724f6}    |{NULL, NULL, 4129}  |{B}|\n",
      "|2025-09-21T20:33:59.741915+00:00|view    |11992  |4647   |{VN, ios, en_US, 60a5c78b-fc7a-42a7-949d-862871aba4ff}    |{NULL, NULL, 4028}  |{A}|\n",
      "|2025-09-11T10:33:47.741915+00:00|view    |5368   |2147   |{IN, web, en_US, 7a15820f-913d-4be2-b426-2701516e96be}    |{NULL, NULL, 4917}  |{A}|\n",
      "+--------------------------------+--------+-------+-------+----------------------------------------------------------+--------------------+---+\n",
      "only showing top 5 rows\n",
      "Total events: 200000\n",
      "Events partitions: 4\n"
     ]
    }
   ],
   "source": [
    "events_df = spark.read.schema(events_schema).json(\"./data/events/\")\n",
    "events_df.show(5, truncate=False)\n",
    "print(f\"Total events: {events_df.count()}\")\n",
    "print(f\"Events partitions: {events_df.rdd.getNumPartitions()}\")\n"
   ]
  },
  {
   "cell_type": "markdown",
   "id": "cdc68104",
   "metadata": {},
   "source": [
    "#3 fix some datatypes\n"
   ]
  },
  {
   "cell_type": "code",
   "execution_count": 1548,
   "id": "c6c84d6b",
   "metadata": {},
   "outputs": [],
   "source": [
    "from pyspark.sql.functions import col, to_date, to_timestamp, when"
   ]
  },
  {
   "cell_type": "code",
   "execution_count": 1549,
   "id": "0212a7b1",
   "metadata": {},
   "outputs": [
    {
     "name": "stdout",
     "output_type": "stream",
     "text": [
      "+-------+-----------+----+-------+----------------+\n",
      "|user_id|signup_date|plan|country|marketing_opt_in|\n",
      "+-------+-----------+----+-------+----------------+\n",
      "|1      |2024-10-01 |free|TH     |false           |\n",
      "|2      |2025-05-02 |free|DE     |true            |\n",
      "|3      |2024-08-10 |pro |DE     |true            |\n",
      "|4      |2025-01-20 |free|DE     |false           |\n",
      "|5      |2025-04-27 |free|US     |true            |\n",
      "+-------+-----------+----+-------+----------------+\n",
      "only showing top 5 rows\n",
      "Total users: 20000\n"
     ]
    }
   ],
   "source": [
    "users_df = users_df.withColumn(\"signup_date\", to_date(col(\"signup_date\")))\n",
    "users_df = users_df.withColumnRenamed(\"id\", \"user_id\")\n",
    "users_df.show(5, truncate=False)\n",
    "print(f\"Total users: {users_df.count()}\")"
   ]
  },
  {
   "cell_type": "code",
   "execution_count": 1550,
   "id": "91fcabcf",
   "metadata": {},
   "outputs": [
    {
     "name": "stdout",
     "output_type": "stream",
     "text": [
      "+--------------------------------+--------+-------+-------+----------------------------------------------------------+--------------------+---+--------------------------+----------+\n",
      "|ts                              |event   |user_id|item_id|context                                                   |props               |exp|timestamp                 |date      |\n",
      "+--------------------------------+--------+-------+-------+----------------------------------------------------------+--------------------+---+--------------------------+----------+\n",
      "|2025-09-27T15:26:07.741915+00:00|view    |2484   |3640   |{DE, web, pt_BR, 8abdca9e-195d-41b0-ab3f-68cbeae1ad8a}    |{NULL, NULL, 2953}  |{A}|2025-09-27 22:26:07.741915|2025-09-27|\n",
      "|2025-09-13T18:06:24.741915+00:00|purchase|13203  |1841   |{US, android, de_DE, 662e452a-ae57-49a1-a222-60f66ba7b925}|{159.61, card, NULL}|{A}|2025-09-14 01:06:24.741915|2025-09-13|\n",
      "|2025-09-09T02:59:53.741915+00:00|view    |3166   |4991   |{DE, ios, de_DE, 031db753-abab-40fc-b105-86892dd724f6}    |{NULL, NULL, 4129}  |{B}|2025-09-09 09:59:53.741915|2025-09-09|\n",
      "|2025-09-21T20:33:59.741915+00:00|view    |11992  |4647   |{VN, ios, en_US, 60a5c78b-fc7a-42a7-949d-862871aba4ff}    |{NULL, NULL, 4028}  |{A}|2025-09-22 03:33:59.741915|2025-09-21|\n",
      "|2025-09-11T10:33:47.741915+00:00|view    |5368   |2147   |{IN, web, en_US, 7a15820f-913d-4be2-b426-2701516e96be}    |{NULL, NULL, 4917}  |{A}|2025-09-11 17:33:47.741915|2025-09-11|\n",
      "+--------------------------------+--------+-------+-------+----------------------------------------------------------+--------------------+---+--------------------------+----------+\n",
      "only showing top 5 rows\n",
      "Total events: 200000\n"
     ]
    }
   ],
   "source": [
    "events_df = events_df.withColumn(\"timestamp\", to_timestamp(col(\"ts\")))\n",
    "events_df = events_df.withColumn(\"date\", to_date(col(\"ts\")))\n",
    "events_df.show(5, truncate=False)\n",
    "print(f\"Total events: {events_df.count()}\")"
   ]
  },
  {
   "cell_type": "markdown",
   "id": "d3d3b591",
   "metadata": {},
   "source": [
    "#4 add revenue column\n"
   ]
  },
  {
   "cell_type": "code",
   "execution_count": 1551,
   "id": "6fe19c81",
   "metadata": {},
   "outputs": [
    {
     "name": "stdout",
     "output_type": "stream",
     "text": [
      "+--------------------------------+--------+-------+-------+----------------------------------------------------------+--------------------+---+--------------------------+----------+-------+\n",
      "|ts                              |event   |user_id|item_id|context                                                   |props               |exp|timestamp                 |date      |revenue|\n",
      "+--------------------------------+--------+-------+-------+----------------------------------------------------------+--------------------+---+--------------------------+----------+-------+\n",
      "|2025-09-27T15:26:07.741915+00:00|view    |2484   |3640   |{DE, web, pt_BR, 8abdca9e-195d-41b0-ab3f-68cbeae1ad8a}    |{NULL, NULL, 2953}  |{A}|2025-09-27 22:26:07.741915|2025-09-27|0.0    |\n",
      "|2025-09-13T18:06:24.741915+00:00|purchase|13203  |1841   |{US, android, de_DE, 662e452a-ae57-49a1-a222-60f66ba7b925}|{159.61, card, NULL}|{A}|2025-09-14 01:06:24.741915|2025-09-13|159.61 |\n",
      "|2025-09-09T02:59:53.741915+00:00|view    |3166   |4991   |{DE, ios, de_DE, 031db753-abab-40fc-b105-86892dd724f6}    |{NULL, NULL, 4129}  |{B}|2025-09-09 09:59:53.741915|2025-09-09|0.0    |\n",
      "|2025-09-21T20:33:59.741915+00:00|view    |11992  |4647   |{VN, ios, en_US, 60a5c78b-fc7a-42a7-949d-862871aba4ff}    |{NULL, NULL, 4028}  |{A}|2025-09-22 03:33:59.741915|2025-09-21|0.0    |\n",
      "|2025-09-11T10:33:47.741915+00:00|view    |5368   |2147   |{IN, web, en_US, 7a15820f-913d-4be2-b426-2701516e96be}    |{NULL, NULL, 4917}  |{A}|2025-09-11 17:33:47.741915|2025-09-11|0.0    |\n",
      "+--------------------------------+--------+-------+-------+----------------------------------------------------------+--------------------+---+--------------------------+----------+-------+\n",
      "only showing top 5 rows\n",
      "Total events: 200000\n",
      "Events partitions: 4\n"
     ]
    }
   ],
   "source": [
    "events_df = events_df.withColumn(\n",
    "    \"revenue\",\n",
    "    when(col(\"event\") == \"purchase\", col(\"props.price\").cast(DoubleType())).otherwise(\n",
    "        0.0\n",
    "    ),\n",
    ")\n",
    "\n",
    "events_df.show(5, truncate=False)\n",
    "print(f\"Total events: {events_df.count()}\")\n",
    "print(f\"Events partitions: {events_df.rdd.getNumPartitions()}\")"
   ]
  },
  {
   "cell_type": "code",
   "execution_count": 1552,
   "id": "4bcd9a2b",
   "metadata": {},
   "outputs": [
    {
     "name": "stdout",
     "output_type": "stream",
     "text": [
      "+--------------------------------+--------+-------+-------+----------------------------------------------------------+--------------------+---+--------------------------+----------+-------+\n",
      "|ts                              |event   |user_id|item_id|context                                                   |props               |exp|timestamp                 |date      |revenue|\n",
      "+--------------------------------+--------+-------+-------+----------------------------------------------------------+--------------------+---+--------------------------+----------+-------+\n",
      "|2025-09-27T15:26:07.741915+00:00|view    |2484   |3640   |{DE, web, pt_BR, 8abdca9e-195d-41b0-ab3f-68cbeae1ad8a}    |{NULL, NULL, 2953}  |{A}|2025-09-27 22:26:07.741915|2025-09-27|0.0    |\n",
      "|2025-09-13T18:06:24.741915+00:00|purchase|13203  |1841   |{US, android, de_DE, 662e452a-ae57-49a1-a222-60f66ba7b925}|{159.61, card, NULL}|{A}|2025-09-14 01:06:24.741915|2025-09-13|159.61 |\n",
      "|2025-09-09T02:59:53.741915+00:00|view    |3166   |4991   |{DE, ios, de_DE, 031db753-abab-40fc-b105-86892dd724f6}    |{NULL, NULL, 4129}  |{B}|2025-09-09 09:59:53.741915|2025-09-09|0.0    |\n",
      "|2025-09-21T20:33:59.741915+00:00|view    |11992  |4647   |{VN, ios, en_US, 60a5c78b-fc7a-42a7-949d-862871aba4ff}    |{NULL, NULL, 4028}  |{A}|2025-09-22 03:33:59.741915|2025-09-21|0.0    |\n",
      "|2025-09-11T10:33:47.741915+00:00|view    |5368   |2147   |{IN, web, en_US, 7a15820f-913d-4be2-b426-2701516e96be}    |{NULL, NULL, 4917}  |{A}|2025-09-11 17:33:47.741915|2025-09-11|0.0    |\n",
      "+--------------------------------+--------+-------+-------+----------------------------------------------------------+--------------------+---+--------------------------+----------+-------+\n",
      "only showing top 5 rows\n",
      "Total events: 199995\n",
      "Events partitions: 4\n"
     ]
    }
   ],
   "source": [
    "events_df = events_df.filter(col(\"revenue\") >= 0.0)\n",
    "\n",
    "events_df.show(5, truncate=False)\n",
    "print(f\"Total events: {events_df.count()}\")\n",
    "print(f\"Events partitions: {events_df.rdd.getNumPartitions()}\")"
   ]
  },
  {
   "cell_type": "markdown",
   "id": "f344af0d",
   "metadata": {},
   "source": [
    "#5 join data\n"
   ]
  },
  {
   "cell_type": "code",
   "execution_count": 1553,
   "id": "3871804d",
   "metadata": {},
   "outputs": [],
   "source": [
    "spark.sparkContext.setJobDescription(\"Stage 2: Joining events with items and users\")\n"
   ]
  },
  {
   "cell_type": "code",
   "execution_count": 1554,
   "id": "eea9d7cc",
   "metadata": {},
   "outputs": [],
   "source": [
    "# events_df = events_df.repartition(8)\n",
    "# events_df = events_df.repartition(4, col(\"date\"))\n",
    "# events_df = events_df.repartition(2, col(\"date\"))\n",
    "# events_df = events_df.repartition(4)\n",
    "# events_df = events_df.repartition(8)\n",
    "events_df = events_df.repartition(12, col(\"date\"))"
   ]
  },
  {
   "cell_type": "code",
   "execution_count": 1555,
   "id": "0043df39",
   "metadata": {},
   "outputs": [],
   "source": [
    "from pyspark.sql.functions import broadcast, count, sum, countDistinct\n"
   ]
  },
  {
   "cell_type": "code",
   "execution_count": 1556,
   "id": "10b05be4",
   "metadata": {},
   "outputs": [
    {
     "name": "stdout",
     "output_type": "stream",
     "text": [
      "+-------+-------+--------------------------------+--------+----------------------------------------------------------+--------------------+---+--------------------------+----------+-------+--------+-----+-----------+----+-------+----------------+\n",
      "|user_id|item_id|ts                              |event   |context                                                   |props               |exp|timestamp                 |date      |revenue|category|price|signup_date|plan|country|marketing_opt_in|\n",
      "+-------+-------+--------------------------------+--------+----------------------------------------------------------+--------------------+---+--------------------------+----------+-------+--------+-----+-----------+----+-------+----------------+\n",
      "|5368   |2147   |2025-09-11T10:33:47.741915+00:00|view    |{IN, web, en_US, 7a15820f-913d-4be2-b426-2701516e96be}    |{NULL, NULL, 4917}  |{A}|2025-09-11 17:33:47.741915|2025-09-11|0.0    |toys    |NULL |2024-09-22 |free|IN     |false           |\n",
      "|6507   |570    |2025-08-26T05:39:53.741915+00:00|purchase|{BR, web, en_US, e57407b4-ff32-4c23-a5f5-b3ebd38b765f}    |{136.57, card, NULL}|{B}|2025-08-26 12:39:53.741915|2025-08-26|136.57 |sports  |NULL |2024-10-11 |free|IN     |false           |\n",
      "|7108   |936    |2025-08-26T05:40:41.741915+00:00|view    |{US, ios, th_TH, 0046da9f-b6ec-4f19-b8da-b2a1bd07dc5e}    |{NULL, NULL, 3769}  |{B}|2025-08-26 12:40:41.741915|2025-08-26|0.0    |fashion |NULL |2024-09-07 |free|BR     |false           |\n",
      "|14182  |4772   |2025-08-26T05:40:59.741915+00:00|view    |{IN, web, en_GB, ede141a4-a97f-44ce-9d5a-c9005cfcaa57}    |{NULL, NULL, 723}   |{B}|2025-08-26 12:40:59.741915|2025-08-26|0.0    |fashion |NULL |2024-09-04 |free|TH     |true            |\n",
      "|15349  |2232   |2025-08-26T05:41:16.741915+00:00|view    |{US, android, fr_FR, 93f59cff-e66f-4c83-9430-814bc4f0dfc7}|{NULL, NULL, 2288}  |{B}|2025-08-26 12:41:16.741915|2025-08-26|0.0    |toys    |NULL |2025-01-16 |free|BR     |false           |\n",
      "+-------+-------+--------------------------------+--------+----------------------------------------------------------+--------------------+---+--------------------------+----------+-------+--------+-----+-----------+----+-------+----------------+\n",
      "only showing top 5 rows\n",
      "Total events: 199995\n",
      "Events partitions: 12\n"
     ]
    }
   ],
   "source": [
    "events_df = events_df.join(broadcast(items_df), on=\"item_id\", how=\"inner\").join(\n",
    "    broadcast(users_df), on=\"user_id\", how=\"inner\"\n",
    ")\n",
    "\n",
    "# broadcast helps here because items table and users table\n",
    "# are much smaller (20k and 5k)\n",
    "# each worker can do its join without sharing data (shuffling) over other workers\n",
    "\n",
    "\n",
    "events_df.show(5, truncate=False)\n",
    "print(f\"Total events: {events_df.count()}\")\n",
    "print(f\"Events partitions: {events_df.rdd.getNumPartitions()}\")"
   ]
  },
  {
   "cell_type": "code",
   "execution_count": 1557,
   "id": "38bfd756",
   "metadata": {},
   "outputs": [],
   "source": [
    "spark.sparkContext.setJobDescription(\"Stage 3: Calculating daily KPIs and 7-day rolling revenue\")\n"
   ]
  },
  {
   "cell_type": "code",
   "execution_count": 1558,
   "id": "26796e46",
   "metadata": {},
   "outputs": [],
   "source": [
    "# events_df = events_df.repartition(4, col(\"date\"))\n"
   ]
  },
  {
   "cell_type": "code",
   "execution_count": 1559,
   "id": "65354013",
   "metadata": {},
   "outputs": [
    {
     "name": "stdout",
     "output_type": "stream",
     "text": [
      "+----------+-------+-----------+------------+---------+------------------+------------+\n",
      "|date      |country|category   |events_total|purchases|revenue           |unique_users|\n",
      "+----------+-------+-----------+------------+---------+------------------+------------+\n",
      "|2025-09-11|IN     |toys       |87          |5        |1031.24           |84          |\n",
      "|2025-08-26|IN     |sports     |240         |4        |588.4             |226         |\n",
      "|2025-08-26|BR     |fashion    |247         |11       |1489.74           |236         |\n",
      "|2025-08-26|TH     |fashion    |229         |7        |925.9300000000001 |218         |\n",
      "|2025-08-26|BR     |toys       |261         |12       |1969.3600000000001|241         |\n",
      "|2025-09-11|TH     |books      |90          |1        |209.65            |86          |\n",
      "|2025-09-11|BR     |electronics|76          |0        |0.0               |76          |\n",
      "|2025-08-26|DE     |sports     |216         |3        |452.44            |208         |\n",
      "|2025-08-26|VN     |sports     |229         |7        |1072.0500000000002|219         |\n",
      "|2025-09-11|VN     |toys       |105         |4        |482.87            |100         |\n",
      "|2025-08-26|BR     |home       |255         |12       |2026.05           |240         |\n",
      "|2025-08-26|TH     |sports     |245         |7        |973.64            |233         |\n",
      "|2025-09-11|TH     |sports     |106         |4        |553.1800000000001 |101         |\n",
      "|2025-09-11|DE     |home       |82          |3        |592.9499999999999 |81          |\n",
      "|2025-08-26|VN     |toys       |224         |6        |650.8900000000001 |213         |\n",
      "|2025-09-11|VN     |books      |85          |3        |450.31999999999994|82          |\n",
      "|2025-08-26|FR     |books      |256         |9        |1061.87           |243         |\n",
      "|2025-08-26|GB     |books      |223         |7        |1000.81           |216         |\n",
      "|2025-08-26|GB     |home       |261         |5        |562.53            |252         |\n",
      "|2025-09-11|VN     |sports     |76          |1        |54.31             |74          |\n",
      "+----------+-------+-----------+------------+---------+------------------+------------+\n",
      "only showing top 20 rows\n",
      "Total grouped records: 3327\n",
      "Daily KPI partitions: 12\n"
     ]
    }
   ],
   "source": [
    "daily_kpi_df = events_df.groupBy(\"date\", \"country\", \"category\").agg(\n",
    "    count(\"*\").alias(\"events_total\"),\n",
    "    count(when(col(\"event\") == \"purchase\", True)).alias(\"purchases\"),\n",
    "    sum(\"revenue\").alias(\"revenue\"),\n",
    "    countDistinct(\"user_id\").alias(\"unique_users\")\n",
    ")\n",
    "\n",
    "daily_kpi_df.show(20, truncate=False)\n",
    "print(f\"Total grouped records: {daily_kpi_df.count()}\")\n",
    "print(f\"Daily KPI partitions: {daily_kpi_df.rdd.getNumPartitions()}\")"
   ]
  },
  {
   "cell_type": "markdown",
   "id": "f5db2ebf",
   "metadata": {},
   "source": [
    "#6 combine data"
   ]
  },
  {
   "cell_type": "code",
   "execution_count": 1560,
   "id": "a3cce2ab",
   "metadata": {},
   "outputs": [],
   "source": [
    "from pyspark.sql import Window"
   ]
  },
  {
   "cell_type": "code",
   "execution_count": 1561,
   "id": "c84186ec",
   "metadata": {},
   "outputs": [
    {
     "name": "stdout",
     "output_type": "stream",
     "text": [
      "+----------+-------+--------+------------+---------+------------------+------------+------------------+\n",
      "|date      |country|category|events_total|purchases|revenue           |unique_users|revenue_7d        |\n",
      "+----------+-------+--------+------------+---------+------------------+------------+------------------+\n",
      "|2025-08-25|BR     |books   |233         |5        |949.1000000000001 |225         |949.1000000000001 |\n",
      "|2025-08-26|BR     |books   |216         |11       |1681.91           |211         |2631.01           |\n",
      "|2025-08-27|BR     |books   |195         |3        |280.39            |189         |2911.4            |\n",
      "|2025-08-28|BR     |books   |185         |9        |1171.16           |180         |4082.5600000000004|\n",
      "|2025-08-29|BR     |books   |160         |7        |1099.1            |153         |5181.66           |\n",
      "|2025-08-30|BR     |books   |149         |8        |1203.58           |146         |6385.24           |\n",
      "|2025-08-31|BR     |books   |151         |5        |822.28            |146         |7207.5199999999995|\n",
      "|2025-09-01|BR     |books   |148         |2        |430.9             |143         |6689.319999999999 |\n",
      "|2025-09-02|BR     |books   |123         |5        |936.3599999999999 |118         |5943.7699999999995|\n",
      "|2025-09-03|BR     |books   |107         |2        |476.82            |103         |6140.199999999999 |\n",
      "|2025-09-04|BR     |books   |107         |0        |0.0               |105         |4969.04           |\n",
      "|2025-09-05|BR     |books   |93          |4        |677.64            |92          |4547.58           |\n",
      "|2025-09-06|BR     |books   |95          |1        |236.67            |94          |3580.67           |\n",
      "|2025-09-07|BR     |books   |106         |2        |328.6             |104         |3086.99           |\n",
      "|2025-09-08|BR     |books   |101         |6        |811.41            |101         |3467.4999999999995|\n",
      "|2025-09-09|BR     |books   |95          |5        |580.78            |93          |3111.92           |\n",
      "|2025-09-10|BR     |books   |101         |5        |449.88000000000005|98          |3084.9799999999996|\n",
      "|2025-09-11|BR     |books   |84          |7        |970.8199999999999 |83          |4055.7999999999993|\n",
      "|2025-09-12|BR     |books   |75          |1        |61.02             |74          |3439.18           |\n",
      "|2025-09-13|BR     |books   |70          |5        |956.1899999999999 |69          |4158.7            |\n",
      "+----------+-------+--------+------------+---------+------------------+------------+------------------+\n",
      "only showing top 20 rows\n",
      "Total weekly records: 3327\n",
      "Weekly KPI partitions: 1\n"
     ]
    }
   ],
   "source": [
    "window_spec = Window.partitionBy(\"country\", \"category\").orderBy(\"date\").rowsBetween(-6, 0)\n",
    "\n",
    "daily_kpi_df = daily_kpi_df.withColumn(\"revenue_7d\", sum(\"revenue\").over(window_spec))\n",
    "\n",
    "daily_kpi_df.show(20, truncate=False)\n",
    "print(f\"Total weekly records: {daily_kpi_df.count()}\")\n",
    "print(f\"Weekly KPI partitions: {daily_kpi_df.rdd.getNumPartitions()}\")\n"
   ]
  },
  {
   "cell_type": "markdown",
   "id": "0ab692d4",
   "metadata": {},
   "source": [
    "#8 write to parquet"
   ]
  },
  {
   "cell_type": "code",
   "execution_count": 1562,
   "id": "08de8832",
   "metadata": {},
   "outputs": [],
   "source": [
    "# daily_kpi_df = daily_kpi_df.coalesce(4)\n",
    "# daily_kpi_df = daily_kpi_df.repartition(4, col(\"date\"))\n",
    "daily_kpi_df = daily_kpi_df.repartition(12, col(\"date\"))"
   ]
  },
  {
   "cell_type": "code",
   "execution_count": 1563,
   "id": "a8949010",
   "metadata": {},
   "outputs": [],
   "source": [
    "spark.sparkContext.setJobDescription(\"Stage 4: Writing results to parquet\")"
   ]
  },
  {
   "cell_type": "code",
   "execution_count": 1564,
   "id": "13f0379c",
   "metadata": {},
   "outputs": [
    {
     "name": "stdout",
     "output_type": "stream",
     "text": [
      "+-------+-----------+------------+---------+-----------------+------------+-----------------+\n",
      "|country|   category|events_total|purchases|          revenue|unique_users|       revenue_7d|\n",
      "+-------+-----------+------------+---------+-----------------+------------+-----------------+\n",
      "|     BR|      books|         233|        5|949.1000000000001|         225|949.1000000000001|\n",
      "|     BR|electronics|         215|        6|873.1999999999999|         211|873.1999999999999|\n",
      "|     BR|    fashion|         234|        7|           608.23|         216|           608.23|\n",
      "|     BR|       home|         230|       10|          1468.25|         218|          1468.25|\n",
      "|     BR|     sports|         230|        5|           629.35|         220|           629.35|\n",
      "+-------+-----------+------------+---------+-----------------+------------+-----------------+\n",
      "only showing top 5 rows\n"
     ]
    }
   ],
   "source": [
    "daily_kpi_df.write.partitionBy(\"date\").mode(\"overwrite\").parquet(\"out/daily_kpi/\")\n",
    "\n",
    "test_df = spark.read.parquet(\"out/daily_kpi/date=2025-08-25\")\n",
    "test_df.show(5)\n"
   ]
  },
  {
   "cell_type": "code",
   "execution_count": 1565,
   "id": "86cede85",
   "metadata": {},
   "outputs": [
    {
     "name": "stdout",
     "output_type": "stream",
     "text": [
      "Total pipeline time: 8.61 seconds\n"
     ]
    }
   ],
   "source": [
    "total_time = time.time() - pipeline_start\n",
    "\n",
    "print(f\"Total pipeline time: {total_time:.2f} seconds\")"
   ]
  },
  {
   "cell_type": "code",
   "execution_count": 1566,
   "id": "84d751cb",
   "metadata": {},
   "outputs": [],
   "source": [
    "# without repartition: \n",
    "#     12.26 secondsm, nothing changed\n",
    "\n",
    "\n",
    "# before join\n",
    "# 12.24, repartition(4)\n",
    "# 11.90, repartition(8)\n",
    "# 10.53 seconds, repartition(4, col(\"date\"))\n",
    "# 9.81 seconds, repartition(8, col(\"date\"))\n",
    "\n",
    "# better to repartition by date, before join\n",
    "\n",
    "# before aggregation:\n",
    "# 11.75 seconds, no so good\n",
    "\n",
    "# before write:\n",
    "# 9.68, repartition(4, col(\"date\"))\n",
    "# 10.47, coalesce(4) alone\n",
    "\n",
    "\n",
    "# best time (not avg):\n",
    "# 8.27,  with repartition before join, and before write, sometimes 10s\n",
    "\n",
    "# i think would be better to use all 12 cores that i have\n",
    "# theres not much difference between 8 and 12 partitions\n",
    "\n",
    "# but with 12 partitions doesnt get more than 10 seconds\n",
    "# sometimes 8 partitions is faster, sometimes slower\n",
    "\n",
    "# i would say 12 for stability"
   ]
  }
 ],
 "metadata": {
  "kernelspec": {
   "display_name": "hw2-revenue-analysis",
   "language": "python",
   "name": "python3"
  },
  "language_info": {
   "codemirror_mode": {
    "name": "ipython",
    "version": 3
   },
   "file_extension": ".py",
   "mimetype": "text/x-python",
   "name": "python",
   "nbconvert_exporter": "python",
   "pygments_lexer": "ipython3",
   "version": "3.11.13"
  }
 },
 "nbformat": 4,
 "nbformat_minor": 5
}
