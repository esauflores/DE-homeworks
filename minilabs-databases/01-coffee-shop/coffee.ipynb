{
 "cells": [
  {
   "cell_type": "code",
   "execution_count": 38,
   "id": "08df0096",
   "metadata": {},
   "outputs": [],
   "source": [
    "from redis import Redis\n",
    "import time"
   ]
  },
  {
   "cell_type": "code",
   "execution_count": 39,
   "id": "fd9525b5",
   "metadata": {},
   "outputs": [
    {
     "name": "stdout",
     "output_type": "stream",
     "text": [
      "Connected. DB cleared.\n"
     ]
    }
   ],
   "source": [
    "r = Redis(host=\"localhost\", port=6379, decode_responses=True)\n",
    "r.flushdb()  # clear everything to start fresh\n",
    "print(\"Connected. DB cleared.\")"
   ]
  },
  {
   "cell_type": "code",
   "execution_count": 40,
   "id": "e8b71448",
   "metadata": {},
   "outputs": [
    {
     "name": "stdout",
     "output_type": "stream",
     "text": [
      "Customer -> Alice Johnson\n"
     ]
    }
   ],
   "source": [
    "r.set(\"customer:alice\", \"Alice Johnson\")\n",
    "print(\"Customer ->\", r.get(\"customer:alice\"))"
   ]
  },
  {
   "cell_type": "code",
   "execution_count": 41,
   "id": "8218aa81",
   "metadata": {},
   "outputs": [
    {
     "name": "stdout",
     "output_type": "stream",
     "text": [
      "Visits before any increment: None\n",
      "First visit -> 1\n",
      "Second visit -> 2\n",
      "Now stored in Redis: 2\n"
     ]
    }
   ],
   "source": [
    "print(\"Visits before any increment:\", r.get(\"visits:alice\"))\n",
    "print(\"First visit ->\", r.incr(\"visits:alice\"))   # becomes 1\n",
    "print(\"Second visit ->\", r.incr(\"visits:alice\"))  # becomes 2\n",
    "print(\"Now stored in Redis:\", r.get(\"visits:alice\"))"
   ]
  },
  {
   "cell_type": "code",
   "execution_count": 42,
   "id": "1f4cc7d6",
   "metadata": {},
   "outputs": [
    {
     "name": "stdout",
     "output_type": "stream",
     "text": [
      "Discount code -> SAVE10\n",
      "TTL (seconds remaining) -> 10\n",
      "After 11s, discount code -> None\n",
      "TTL after expiry -> -2\n"
     ]
    }
   ],
   "source": [
    "r.set(\"discount:alice\", \"SAVE10\", ex=10)  # expires after 10s\n",
    "print(\"Discount code ->\", r.get(\"discount:alice\"))\n",
    "print(\"TTL (seconds remaining) ->\", r.ttl(\"discount:alice\"))\n",
    "\n",
    "time.sleep(11)\n",
    "# should be gone\n",
    "print(\"After 11s, discount code ->\", r.get(\"discount:alice\"))\n",
    "# -2 means no key\n",
    "print(\"TTL after expiry ->\", r.ttl(\"discount:alice\"))"
   ]
  },
  {
   "cell_type": "code",
   "execution_count": 43,
   "id": "4dc54206",
   "metadata": {},
   "outputs": [
    {
     "name": "stdout",
     "output_type": "stream",
     "text": [
      "Discount code -> SAVE10\n",
      "VALID CODE -> SAVE10\n",
      "1 seconds passed. TTL now -> 10\n",
      "VALID CODE -> SAVE10\n",
      "2 seconds passed. TTL now -> 9\n",
      "VALID CODE -> SAVE10\n",
      "3 seconds passed. TTL now -> 8\n",
      "VALID CODE -> SAVE10\n",
      "4 seconds passed. TTL now -> 7\n",
      "VALID CODE -> SAVE10\n",
      "5 seconds passed. TTL now -> 6\n",
      "VALID CODE -> SAVE10\n",
      "6 seconds passed. TTL now -> 5\n",
      "VALID CODE -> SAVE10\n",
      "7 seconds passed. TTL now -> 4\n",
      "VALID CODE -> SAVE10\n",
      "8 seconds passed. TTL now -> 3\n",
      "VALID CODE -> SAVE10\n",
      "9 seconds passed. TTL now -> 2\n",
      "VALID CODE -> SAVE10\n",
      "10 seconds passed. TTL now -> 1\n",
      "VALID CODE -> None\n",
      "11 seconds passed. TTL now -> -2\n",
      "VALID CODE -> None\n",
      "12 seconds passed. TTL now -> -2\n"
     ]
    }
   ],
   "source": [
    "r.set(\"discount:alice\", \"SAVE10\", ex=10)  # expires after 10s\n",
    "print(\"Discount code ->\", r.get(\"discount:alice\"))\n",
    "for i in range(12):\n",
    "    print(\"VALID CODE ->\", r.get(\"discount:alice\"))\n",
    "    print(f\"{i+1} seconds passed. TTL now ->\", r.ttl(\"discount:alice\"))\n",
    "    time.sleep(1)"
   ]
  }
 ],
 "metadata": {
  "kernelspec": {
   "display_name": "minilabs-databases",
   "language": "python",
   "name": "python3"
  },
  "language_info": {
   "codemirror_mode": {
    "name": "ipython",
    "version": 3
   },
   "file_extension": ".py",
   "mimetype": "text/x-python",
   "name": "python",
   "nbconvert_exporter": "python",
   "pygments_lexer": "ipython3",
   "version": "3.11.13"
  }
 },
 "nbformat": 4,
 "nbformat_minor": 5
}
